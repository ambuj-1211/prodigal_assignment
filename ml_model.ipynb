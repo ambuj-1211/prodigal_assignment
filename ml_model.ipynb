{
 "cells": [
  {
   "cell_type": "code",
   "execution_count": 1,
   "id": "0023dfe3",
   "metadata": {},
   "outputs": [],
   "source": [
    "import json\n",
    "import yaml\n",
    "import langchain"
   ]
  },
  {
   "cell_type": "code",
   "execution_count": 2,
   "id": "64a0d33b",
   "metadata": {},
   "outputs": [],
   "source": [
    "# client = openai.OpenAI(api_key=OPENAI_API_KEY)\n",
    "#         response = client.chat.completions.create(\n",
    "#             model=\"gpt-4.1-nano\",\n",
    "#             # model = \"gpt-4.1-nano-2025-04-14\",\n",
    "#             messages=[\n",
    "#                 {\"role\": \"system\", \"content\": \"You are a search query generator that creates optimized search queries for finding job candidates.\"},\n",
    "#                 {\"role\": \"user\", \"content\": prompt}\n",
    "#             ],\n",
    "#             max_tokens=300,\n",
    "#             temperature=0.3\n",
    "#         )\n",
    "        \n",
    "#         search_query = response.choices[0].message.content"
   ]
  },
  {
   "cell_type": "code",
   "execution_count": 3,
   "id": "0d2d2ca2",
   "metadata": {},
   "outputs": [
    {
     "data": {
      "text/html": [
       "<div>\n",
       "<style scoped>\n",
       "    .dataframe tbody tr th:only-of-type {\n",
       "        vertical-align: middle;\n",
       "    }\n",
       "\n",
       "    .dataframe tbody tr th {\n",
       "        vertical-align: top;\n",
       "    }\n",
       "\n",
       "    .dataframe thead th {\n",
       "        text-align: right;\n",
       "    }\n",
       "</style>\n",
       "<table border=\"1\" class=\"dataframe\">\n",
       "  <thead>\n",
       "    <tr style=\"text-align: right;\">\n",
       "      <th></th>\n",
       "      <th>conversation_id</th>\n",
       "      <th>conversation</th>\n",
       "      <th>profanity</th>\n",
       "      <th>sensitive_data_compliance</th>\n",
       "    </tr>\n",
       "  </thead>\n",
       "  <tbody>\n",
       "    <tr>\n",
       "      <th>0</th>\n",
       "      <td>742147aa-a2df-4429-859e-05b4a7875563</td>\n",
       "      <td>[{\"speaker\": \"Agent\", \"text\": \"Hello, is this ...</td>\n",
       "      <td>Not Found</td>\n",
       "      <td>Not Found</td>\n",
       "    </tr>\n",
       "    <tr>\n",
       "      <th>1</th>\n",
       "      <td>b76917d8-cb80-481a-84d5-25de34e98f95</td>\n",
       "      <td>[{\"speaker\": \"Agent\", \"text\": \"Good afternoon,...</td>\n",
       "      <td>Not Found</td>\n",
       "      <td>Not Found</td>\n",
       "    </tr>\n",
       "    <tr>\n",
       "      <th>2</th>\n",
       "      <td>63803395-1ed2-405c-afdc-66ed0f48cd45</td>\n",
       "      <td>[{\"speaker\": \"Agent\", \"text\": \"Hello, this is ...</td>\n",
       "      <td>Not Found</td>\n",
       "      <td>Not Found</td>\n",
       "    </tr>\n",
       "    <tr>\n",
       "      <th>3</th>\n",
       "      <td>a73d777f-368a-46b5-9d59-0aa5829b4427</td>\n",
       "      <td>[{\"speaker\": \"Agent\", \"text\": \"Hello, is this ...</td>\n",
       "      <td>Not Found</td>\n",
       "      <td>Not Found</td>\n",
       "    </tr>\n",
       "    <tr>\n",
       "      <th>4</th>\n",
       "      <td>d7bbea61-d739-43fb-a198-ced1b59f9491</td>\n",
       "      <td>[{\"speaker\": \"Agent\", \"text\": \"Hello, this is ...</td>\n",
       "      <td>Found</td>\n",
       "      <td>Not Found</td>\n",
       "    </tr>\n",
       "    <tr>\n",
       "      <th>5</th>\n",
       "      <td>0b6979e4-8c05-49e1-b7a7-94d85a627df5</td>\n",
       "      <td>[{\"speaker\": \"Agent\", \"text\": \"Hello, this is ...</td>\n",
       "      <td>Not Found</td>\n",
       "      <td>Not Found</td>\n",
       "    </tr>\n",
       "    <tr>\n",
       "      <th>6</th>\n",
       "      <td>928acb70-fa80-4532-a0c0-2234bf236e17</td>\n",
       "      <td>[{\"speaker\": \"Agent\", \"text\": \"Hello, this is ...</td>\n",
       "      <td>Found</td>\n",
       "      <td>Not Found</td>\n",
       "    </tr>\n",
       "    <tr>\n",
       "      <th>7</th>\n",
       "      <td>b4dcda70-5083-4dc4-96a7-ce6d5e92c2a2</td>\n",
       "      <td>[{\"speaker\": \"Agent\", \"text\": \"Hello, this is ...</td>\n",
       "      <td>Not Found</td>\n",
       "      <td>Not Found</td>\n",
       "    </tr>\n",
       "    <tr>\n",
       "      <th>8</th>\n",
       "      <td>2f279983-ea96-4c10-a09d-4b607de21a38</td>\n",
       "      <td>[{\"speaker\": \"Agent\", \"text\": \"Hi, this is Mik...</td>\n",
       "      <td>Found</td>\n",
       "      <td>Violation</td>\n",
       "    </tr>\n",
       "    <tr>\n",
       "      <th>9</th>\n",
       "      <td>3f9a4a6a-2d53-4391-95c9-44306989d6ce</td>\n",
       "      <td>[{\"speaker\": \"Agent\", \"text\": \"Hello, is this ...</td>\n",
       "      <td>Not Found</td>\n",
       "      <td>Not Found</td>\n",
       "    </tr>\n",
       "  </tbody>\n",
       "</table>\n",
       "</div>"
      ],
      "text/plain": [
       "                        conversation_id  \\\n",
       "0  742147aa-a2df-4429-859e-05b4a7875563   \n",
       "1  b76917d8-cb80-481a-84d5-25de34e98f95   \n",
       "2  63803395-1ed2-405c-afdc-66ed0f48cd45   \n",
       "3  a73d777f-368a-46b5-9d59-0aa5829b4427   \n",
       "4  d7bbea61-d739-43fb-a198-ced1b59f9491   \n",
       "5  0b6979e4-8c05-49e1-b7a7-94d85a627df5   \n",
       "6  928acb70-fa80-4532-a0c0-2234bf236e17   \n",
       "7  b4dcda70-5083-4dc4-96a7-ce6d5e92c2a2   \n",
       "8  2f279983-ea96-4c10-a09d-4b607de21a38   \n",
       "9  3f9a4a6a-2d53-4391-95c9-44306989d6ce   \n",
       "\n",
       "                                        conversation  profanity  \\\n",
       "0  [{\"speaker\": \"Agent\", \"text\": \"Hello, is this ...  Not Found   \n",
       "1  [{\"speaker\": \"Agent\", \"text\": \"Good afternoon,...  Not Found   \n",
       "2  [{\"speaker\": \"Agent\", \"text\": \"Hello, this is ...  Not Found   \n",
       "3  [{\"speaker\": \"Agent\", \"text\": \"Hello, is this ...  Not Found   \n",
       "4  [{\"speaker\": \"Agent\", \"text\": \"Hello, this is ...      Found   \n",
       "5  [{\"speaker\": \"Agent\", \"text\": \"Hello, this is ...  Not Found   \n",
       "6  [{\"speaker\": \"Agent\", \"text\": \"Hello, this is ...      Found   \n",
       "7  [{\"speaker\": \"Agent\", \"text\": \"Hello, this is ...  Not Found   \n",
       "8  [{\"speaker\": \"Agent\", \"text\": \"Hi, this is Mik...      Found   \n",
       "9  [{\"speaker\": \"Agent\", \"text\": \"Hello, is this ...  Not Found   \n",
       "\n",
       "  sensitive_data_compliance  \n",
       "0                 Not Found  \n",
       "1                 Not Found  \n",
       "2                 Not Found  \n",
       "3                 Not Found  \n",
       "4                 Not Found  \n",
       "5                 Not Found  \n",
       "6                 Not Found  \n",
       "7                 Not Found  \n",
       "8                 Violation  \n",
       "9                 Not Found  "
      ]
     },
     "execution_count": 3,
     "metadata": {},
     "output_type": "execute_result"
    }
   ],
   "source": [
    "import pandas as pd\n",
    "df = pd.read_csv(\"labeled_conversations.csv\")\n",
    "df.head(10)"
   ]
  },
  {
   "cell_type": "code",
   "execution_count": 4,
   "id": "8a2620e0",
   "metadata": {},
   "outputs": [
    {
     "data": {
      "text/plain": [
       "'[{\"speaker\": \"Agent\", \"text\": \"Hello, is this Mark Johnson? This is Sarah calling from XYZ Collections. How are you today?\", \"stime\": 0, \"etime\": 8}, {\"speaker\": \"Customer\", \"text\": \"Hi Sarah, yes this is Mark. I\\'m doing okay, thanks.\", \"stime\": 8.5, \"etime\": 12}, {\"speaker\": \"Agent\", \"text\": \"I\\'m glad to hear that, Mark. I\\'m reaching out regarding your overdue balance with ABC Credit Union. Can I get your account number to look it up?\", \"stime\": 11, \"etime\": 21}, {\"speaker\": \"Customer\", \"text\": \"Sure, it\\'s 123456789.\", \"stime\": 22, \"etime\": 25}, {\"speaker\": \"Agent\", \"text\": \"Thank you for that. Now, your current balance is $500. Would you like to discuss payment options?\", \"stime\": 24, \"etime\": 34}, {\"speaker\": \"Customer\", \"text\": \"I was thinking of paying half today and the rest next month.\", \"stime\": 35, \"etime\": 42}, {\"speaker\": \"Agent\", \"text\": \"That sounds reasonable. I can help facilitate that. Just to clarify, can I confirm your mailing address?\", \"stime\": 41, \"etime\": 51}, {\"speaker\": \"Customer\", \"text\": \"It\\'s 456 Elm Street, Springfield.\", \"stime\": 52, \"etime\": 56}, {\"speaker\": \"Agent\", \"text\": \"Thank you, Mark! So, your first payment today would be $250, correct?\", \"stime\": 55, \"etime\": 64}, {\"speaker\": \"Customer\", \"text\": \"Yes, that\\'s right.\", \"stime\": 65, \"etime\": 67}, {\"speaker\": \"Agent\", \"text\": \"Great! Let\\'s go ahead and process that. How would you like to make the payment?\", \"stime\": 68, \"etime\": 76}, {\"speaker\": \"Customer\", \"text\": \"I can do it over the phone with my credit card.\", \"stime\": 77, \"etime\": 82}, {\"speaker\": \"Agent\", \"text\": \"Perfect. I just need the card number to get started.\", \"stime\": 81, \"etime\": 88}, {\"speaker\": \"Customer\", \"text\": \"It\\'s 5555 4444 3333 2222.\", \"stime\": 89, \"etime\": 92}, {\"speaker\": \"Agent\", \"text\": \"Thank you for providing that. Now, your payment will be processed shortly. Is there anything else I can assist you with today?\", \"stime\": 93, \"etime\": 103}]'"
      ]
     },
     "execution_count": 4,
     "metadata": {},
     "output_type": "execute_result"
    }
   ],
   "source": [
    "df[\"conversation\"][0]"
   ]
  },
  {
   "cell_type": "code",
   "execution_count": 5,
   "id": "e27f66da",
   "metadata": {},
   "outputs": [
    {
     "data": {
      "text/plain": [
       "str"
      ]
     },
     "execution_count": 5,
     "metadata": {},
     "output_type": "execute_result"
    }
   ],
   "source": [
    "type(df[\"conversation\"][0])"
   ]
  },
  {
   "cell_type": "code",
   "execution_count": null,
   "id": "6e111b8b",
   "metadata": {},
   "outputs": [],
   "source": []
  }
 ],
 "metadata": {
  "kernelspec": {
   "display_name": "prodigal_venv",
   "language": "python",
   "name": "python3"
  },
  "language_info": {
   "codemirror_mode": {
    "name": "ipython",
    "version": 3
   },
   "file_extension": ".py",
   "mimetype": "text/x-python",
   "name": "python",
   "nbconvert_exporter": "python",
   "pygments_lexer": "ipython3",
   "version": "3.12.11"
  }
 },
 "nbformat": 4,
 "nbformat_minor": 5
}
